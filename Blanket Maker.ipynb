{
 "cells": [
  {
   "cell_type": "code",
   "execution_count": 25,
   "metadata": {},
   "outputs": [],
   "source": [
    "import pandas as pd\n",
    "import numpy as np\n",
    "import seaborn as sns\n",
    "import random\n",
    "import matplotlib.pyplot as plt\n",
    "\n",
    "i = 0"
   ]
  },
  {
   "cell_type": "code",
   "execution_count": 2,
   "metadata": {},
   "outputs": [],
   "source": [
    "#Enter dimensions\n",
    "flower_diameter = 1.5 #inches\n",
    "length = 36 #inches\n",
    "width = 32 #inches\n",
    "hex_colors = ['#f6c3a9', '#e2ee80', '#edc3ca', '#5362a3', '#a19c59', '#5f708b', '#cb8295', '#cec7c0']\n",
    "color_weights = [100,100,100,100,100,100,100,100]"
   ]
  },
  {
   "cell_type": "code",
   "execution_count": 22,
   "metadata": {},
   "outputs": [
    {
     "name": "stdout",
     "output_type": "stream",
     "text": [
      "About 24 by 21 flowers\n",
      "504 total\n"
     ]
    },
    {
     "data": {
      "image/png": "[encoded data removed]",
      "text/plain": [
       "<Figure size 576x72 with 1 Axes>"
      ]
     },
     "metadata": {},
     "output_type": "display_data"
    }
   ],
   "source": [
    "%matplotlib inline\n",
    "\n",
    "sns.set()\n",
    "def hex_to_rgb(hex_value):\n",
    "  h = hex_value.lstrip('#')\n",
    "  return tuple(int(h[i:i + 2], 16) / 255.0 for i in (0, 2, 4))\n",
    "rgb_colors = list(map(hex_to_rgb, hex_colors))\n",
    "sns.palplot(rgb_colors)\n",
    "\n",
    "num_flowers_length = round(length/flower_diameter)\n",
    "num_flowers_width = round(width/flower_diameter)\n",
    "total_flowers = num_flowers_length*num_flowers_width\n",
    "print(\"About\", num_flowers_length, \"by\", num_flowers_width, \"flowers\")\n",
    "print(total_flowers, \"total\")"
   ]
  },
  {
   "cell_type": "code",
   "execution_count": 63,
   "metadata": {},
   "outputs": [
    {
     "data": {
      "text/plain": [
       "<AxesSubplot:>"
      ]
     },
     "execution_count": 63,
     "metadata": {},
     "output_type": "execute_result"
    },
    {
     "data": {
      "image/png": "[encoded data removed]",
      "text/plain": [
       "<Figure size 432x288 with 1 Axes>"
      ]
     },
     "metadata": {},
     "output_type": "display_data"
    }
   ],
   "source": [
    "color_weights = np.array(color_weights)\n",
    "prob_list = color_weights/sum(color_weights)\n",
    "colors = list(range(1,9))\n",
    "colors = np.random.choice(colors, size=total_flowers, replace=True, p=prob_list)\n",
    "blanket = colors.reshape((num_flowers_length, num_flowers_width)) \n",
    "sns.heatmap(blanket,cmap=hex_colors,linewidths=0.01, square = True, cbar=False)"
   ]
  },
  {
   "cell_type": "code",
   "execution_count": 64,
   "metadata": {},
   "outputs": [],
   "source": [
    "#Run when you want to save\n",
    "sns.heatmap(blanket,cmap=hex_colors,linewidths=0.01, square = True, cbar=False)\n",
    "plt.savefig(f\"Blanket{i}.png\", dpi = 200)\n",
    "plt.close()\n",
    "i += 1"
   ]
  }
 ],
 "metadata": {
  "kernelspec": {
   "display_name": "Python 3",
   "language": "python",
   "name": "python3"
  },
  "language_info": {
   "codemirror_mode": {
    "name": "ipython",
    "version": 3
   },
   "file_extension": ".py",
   "mimetype": "text/x-python",
   "name": "python",
   "nbconvert_exporter": "python",
   "pygments_lexer": "ipython3",
   "version": "3.8.5"
  }
 },
 "nbformat": 4,
 "nbformat_minor": 4
}
